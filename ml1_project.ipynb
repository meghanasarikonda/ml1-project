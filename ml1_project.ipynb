{
 "cells": [
  {
   "cell_type": "code",
   "execution_count": 125,
   "metadata": {},
   "outputs": [],
   "source": [
    "%matplotlib inline\n",
    "import numpy as np\n",
    "import scipy as sp\n",
    "from scipy.stats.stats import pearsonr\n",
    "import matplotlib as mpl\n",
    "import matplotlib.cm as cm\n",
    "import matplotlib.pyplot as plt\n",
    "from matplotlib.colors import LogNorm\n",
    "import pandas as pd\n",
    "from sklearn.model_selection import train_test_split\n",
    "from sklearn.model_selection import GridSearchCV\n",
    "from sklearn.metrics import confusion_matrix\n",
    "from sklearn.preprocessing import StandardScaler\n",
    "from sklearn.linear_model import LogisticRegression\n",
    "from sklearn.metrics import roc_curve, auc\n",
    "\n",
    "import seaborn as sns\n",
    "sns.set_style()\n",
    "sns.set_context(\"talk\")\n",
    "import warnings\n",
    "warnings.filterwarnings(\"ignore\")"
   ]
  },
  {
   "cell_type": "code",
   "execution_count": 42,
   "metadata": {},
   "outputs": [],
   "source": [
    "# Load the business json file\n",
    "business_path = 'yelp_dataset/yelp_academic_dataset_business.json'\n",
    "business = pd.read_json(business_path,lines=True)"
   ]
  },
  {
   "cell_type": "code",
   "execution_count": 43,
   "metadata": {},
   "outputs": [
    {
     "data": {
      "text/html": [
       "<div>\n",
       "<style scoped>\n",
       "    .dataframe tbody tr th:only-of-type {\n",
       "        vertical-align: middle;\n",
       "    }\n",
       "\n",
       "    .dataframe tbody tr th {\n",
       "        vertical-align: top;\n",
       "    }\n",
       "\n",
       "    .dataframe thead th {\n",
       "        text-align: right;\n",
       "    }\n",
       "</style>\n",
       "<table border=\"1\" class=\"dataframe\">\n",
       "  <thead>\n",
       "    <tr style=\"text-align: right;\">\n",
       "      <th></th>\n",
       "      <th>business_id</th>\n",
       "      <th>name</th>\n",
       "      <th>address</th>\n",
       "      <th>city</th>\n",
       "      <th>state</th>\n",
       "      <th>postal_code</th>\n",
       "      <th>latitude</th>\n",
       "      <th>longitude</th>\n",
       "      <th>stars</th>\n",
       "      <th>review_count</th>\n",
       "      <th>is_open</th>\n",
       "      <th>attributes</th>\n",
       "      <th>categories</th>\n",
       "      <th>hours</th>\n",
       "    </tr>\n",
       "  </thead>\n",
       "  <tbody>\n",
       "    <tr>\n",
       "      <th>0</th>\n",
       "      <td>f9NumwFMBDn751xgFiRbNA</td>\n",
       "      <td>The Range At Lake Norman</td>\n",
       "      <td>10913 Bailey Rd</td>\n",
       "      <td>Cornelius</td>\n",
       "      <td>NC</td>\n",
       "      <td>28031</td>\n",
       "      <td>35.462724</td>\n",
       "      <td>-80.852612</td>\n",
       "      <td>3.5</td>\n",
       "      <td>36</td>\n",
       "      <td>1</td>\n",
       "      <td>{'BusinessAcceptsCreditCards': 'True', 'BikePa...</td>\n",
       "      <td>Active Life, Gun/Rifle Ranges, Guns &amp; Ammo, Sh...</td>\n",
       "      <td>{'Monday': '10:0-18:0', 'Tuesday': '11:0-20:0'...</td>\n",
       "    </tr>\n",
       "    <tr>\n",
       "      <th>1</th>\n",
       "      <td>Yzvjg0SayhoZgCljUJRF9Q</td>\n",
       "      <td>Carlos Santo, NMD</td>\n",
       "      <td>8880 E Via Linda, Ste 107</td>\n",
       "      <td>Scottsdale</td>\n",
       "      <td>AZ</td>\n",
       "      <td>85258</td>\n",
       "      <td>33.569404</td>\n",
       "      <td>-111.890264</td>\n",
       "      <td>5.0</td>\n",
       "      <td>4</td>\n",
       "      <td>1</td>\n",
       "      <td>{'GoodForKids': 'True', 'ByAppointmentOnly': '...</td>\n",
       "      <td>Health &amp; Medical, Fitness &amp; Instruction, Yoga,...</td>\n",
       "      <td>None</td>\n",
       "    </tr>\n",
       "  </tbody>\n",
       "</table>\n",
       "</div>"
      ],
      "text/plain": [
       "              business_id                      name  \\\n",
       "0  f9NumwFMBDn751xgFiRbNA  The Range At Lake Norman   \n",
       "1  Yzvjg0SayhoZgCljUJRF9Q         Carlos Santo, NMD   \n",
       "\n",
       "                     address        city state postal_code   latitude  \\\n",
       "0            10913 Bailey Rd   Cornelius    NC       28031  35.462724   \n",
       "1  8880 E Via Linda, Ste 107  Scottsdale    AZ       85258  33.569404   \n",
       "\n",
       "    longitude  stars  review_count  is_open  \\\n",
       "0  -80.852612    3.5            36        1   \n",
       "1 -111.890264    5.0             4        1   \n",
       "\n",
       "                                          attributes  \\\n",
       "0  {'BusinessAcceptsCreditCards': 'True', 'BikePa...   \n",
       "1  {'GoodForKids': 'True', 'ByAppointmentOnly': '...   \n",
       "\n",
       "                                          categories  \\\n",
       "0  Active Life, Gun/Rifle Ranges, Guns & Ammo, Sh...   \n",
       "1  Health & Medical, Fitness & Instruction, Yoga,...   \n",
       "\n",
       "                                               hours  \n",
       "0  {'Monday': '10:0-18:0', 'Tuesday': '11:0-20:0'...  \n",
       "1                                               None  "
      ]
     },
     "execution_count": 43,
     "metadata": {},
     "output_type": "execute_result"
    }
   ],
   "source": [
    "# Check the fields in business\n",
    "business.head(2)"
   ]
  },
  {
   "cell_type": "code",
   "execution_count": 44,
   "metadata": {},
   "outputs": [],
   "source": [
    "# Dropping businesses which are not open\n",
    "business = business.loc[business['is_open']==1]"
   ]
  },
  {
   "cell_type": "code",
   "execution_count": 47,
   "metadata": {},
   "outputs": [
    {
     "data": {
      "text/plain": [
       "Las Vegas     25043\n",
       "Phoenix       16305\n",
       "Toronto       14962\n",
       "Charlotte      8500\n",
       "Scottsdale     7341\n",
       "Calgary        6772\n",
       "Pittsburgh     6107\n",
       "Mesa           5482\n",
       "Montréal       5367\n",
       "Henderson      4293\n",
       "Name: city, dtype: int64"
      ]
     },
     "execution_count": 47,
     "metadata": {},
     "output_type": "execute_result"
    }
   ],
   "source": [
    "# Check the top 10 cities represented in our dataset\n",
    "business[\"city\"].value_counts()[:10]"
   ]
  },
  {
   "cell_type": "code",
   "execution_count": 48,
   "metadata": {},
   "outputs": [],
   "source": [
    "# To restrict and limit the size of data, let us stick to Las Vegas only\n",
    "business = business.loc[business['city'] == 'Las Vegas']"
   ]
  },
  {
   "cell_type": "code",
   "execution_count": 49,
   "metadata": {},
   "outputs": [
    {
     "data": {
      "text/html": [
       "<div>\n",
       "<style scoped>\n",
       "    .dataframe tbody tr th:only-of-type {\n",
       "        vertical-align: middle;\n",
       "    }\n",
       "\n",
       "    .dataframe tbody tr th {\n",
       "        vertical-align: top;\n",
       "    }\n",
       "\n",
       "    .dataframe thead th {\n",
       "        text-align: right;\n",
       "    }\n",
       "</style>\n",
       "<table border=\"1\" class=\"dataframe\">\n",
       "  <thead>\n",
       "    <tr style=\"text-align: right;\">\n",
       "      <th></th>\n",
       "      <th>business_id</th>\n",
       "      <th>name</th>\n",
       "      <th>address</th>\n",
       "      <th>city</th>\n",
       "      <th>state</th>\n",
       "      <th>postal_code</th>\n",
       "      <th>latitude</th>\n",
       "      <th>longitude</th>\n",
       "      <th>stars</th>\n",
       "      <th>review_count</th>\n",
       "      <th>is_open</th>\n",
       "      <th>attributes</th>\n",
       "      <th>categories</th>\n",
       "      <th>hours</th>\n",
       "    </tr>\n",
       "  </thead>\n",
       "  <tbody>\n",
       "    <tr>\n",
       "      <th>6</th>\n",
       "      <td>oiAlXZPIFm2nBCt0DHLu_Q</td>\n",
       "      <td>Green World Cleaners</td>\n",
       "      <td>6870 S Rainbow Blvd, Ste 117</td>\n",
       "      <td>Las Vegas</td>\n",
       "      <td>NV</td>\n",
       "      <td>89118</td>\n",
       "      <td>36.063977</td>\n",
       "      <td>-115.241463</td>\n",
       "      <td>3.5</td>\n",
       "      <td>81</td>\n",
       "      <td>1</td>\n",
       "      <td>{'BusinessParking': '{'garage': False, 'street...</td>\n",
       "      <td>Dry Cleaning &amp; Laundry, Local Services, Laundr...</td>\n",
       "      <td>{'Monday': '7:0-19:0', 'Tuesday': '7:0-19:0', ...</td>\n",
       "    </tr>\n",
       "    <tr>\n",
       "      <th>51</th>\n",
       "      <td>5XMKDYmMGSKkCkrYoELxzg</td>\n",
       "      <td>Annette Thomas Hair Colorist Specialist</td>\n",
       "      <td>101 S Rainbow Blvd, Ste 23, Darby's Hairitage</td>\n",
       "      <td>Las Vegas</td>\n",
       "      <td>NV</td>\n",
       "      <td>89107</td>\n",
       "      <td>36.172534</td>\n",
       "      <td>-115.244762</td>\n",
       "      <td>5.0</td>\n",
       "      <td>7</td>\n",
       "      <td>1</td>\n",
       "      <td>{'GoodForKids': 'True', 'BusinessParking': '{'...</td>\n",
       "      <td>Hair Stylists, Hair Salons, Beauty &amp; Spas</td>\n",
       "      <td>None</td>\n",
       "    </tr>\n",
       "  </tbody>\n",
       "</table>\n",
       "</div>"
      ],
      "text/plain": [
       "               business_id                                     name  \\\n",
       "6   oiAlXZPIFm2nBCt0DHLu_Q                     Green World Cleaners   \n",
       "51  5XMKDYmMGSKkCkrYoELxzg  Annette Thomas Hair Colorist Specialist   \n",
       "\n",
       "                                          address       city state  \\\n",
       "6                    6870 S Rainbow Blvd, Ste 117  Las Vegas    NV   \n",
       "51  101 S Rainbow Blvd, Ste 23, Darby's Hairitage  Las Vegas    NV   \n",
       "\n",
       "   postal_code   latitude   longitude  stars  review_count  is_open  \\\n",
       "6        89118  36.063977 -115.241463    3.5            81        1   \n",
       "51       89107  36.172534 -115.244762    5.0             7        1   \n",
       "\n",
       "                                           attributes  \\\n",
       "6   {'BusinessParking': '{'garage': False, 'street...   \n",
       "51  {'GoodForKids': 'True', 'BusinessParking': '{'...   \n",
       "\n",
       "                                           categories  \\\n",
       "6   Dry Cleaning & Laundry, Local Services, Laundr...   \n",
       "51          Hair Stylists, Hair Salons, Beauty & Spas   \n",
       "\n",
       "                                                hours  \n",
       "6   {'Monday': '7:0-19:0', 'Tuesday': '7:0-19:0', ...  \n",
       "51                                               None  "
      ]
     },
     "execution_count": 49,
     "metadata": {},
     "output_type": "execute_result"
    }
   ],
   "source": [
    "business.head(2)"
   ]
  },
  {
   "cell_type": "code",
   "execution_count": null,
   "metadata": {},
   "outputs": [],
   "source": [
    "# Drop the columns that we dont need\n",
    "business = business.drop(['city','address', 'state', 'latitude', 'longitude', 'is_open','attributes','hours'], axis=1)"
   ]
  },
  {
   "cell_type": "code",
   "execution_count": 51,
   "metadata": {},
   "outputs": [],
   "source": [
    "# Restricting to businesses with atleast 10 reviews\n",
    "business = business.loc[business['review_count'] >= 10]"
   ]
  },
  {
   "cell_type": "code",
   "execution_count": 55,
   "metadata": {},
   "outputs": [
    {
     "data": {
      "text/plain": [
       "(15386, 6)"
      ]
     },
     "execution_count": 55,
     "metadata": {},
     "output_type": "execute_result"
    }
   ],
   "source": [
    "# Check the number of businesses we have in our datset now\n",
    "business.shape"
   ]
  },
  {
   "cell_type": "code",
   "execution_count": 57,
   "metadata": {},
   "outputs": [
    {
     "data": {
      "text/html": [
       "<div>\n",
       "<style scoped>\n",
       "    .dataframe tbody tr th:only-of-type {\n",
       "        vertical-align: middle;\n",
       "    }\n",
       "\n",
       "    .dataframe tbody tr th {\n",
       "        vertical-align: top;\n",
       "    }\n",
       "\n",
       "    .dataframe thead th {\n",
       "        text-align: right;\n",
       "    }\n",
       "</style>\n",
       "<table border=\"1\" class=\"dataframe\">\n",
       "  <thead>\n",
       "    <tr style=\"text-align: right;\">\n",
       "      <th></th>\n",
       "      <th>business_id</th>\n",
       "      <th>name</th>\n",
       "      <th>postal_code</th>\n",
       "      <th>stars</th>\n",
       "      <th>review_count</th>\n",
       "      <th>categories</th>\n",
       "    </tr>\n",
       "  </thead>\n",
       "  <tbody>\n",
       "    <tr>\n",
       "      <th>6</th>\n",
       "      <td>oiAlXZPIFm2nBCt0DHLu_Q</td>\n",
       "      <td>Green World Cleaners</td>\n",
       "      <td>89118</td>\n",
       "      <td>3.5</td>\n",
       "      <td>81</td>\n",
       "      <td>Dry Cleaning &amp; Laundry, Local Services, Laundr...</td>\n",
       "    </tr>\n",
       "    <tr>\n",
       "      <th>66</th>\n",
       "      <td>bierVTEi44nJtFVQ01N-yQ</td>\n",
       "      <td>Lacoste Outlet Las Vegas</td>\n",
       "      <td>89106</td>\n",
       "      <td>3.5</td>\n",
       "      <td>11</td>\n",
       "      <td>Accessories, Shopping, Fashion, Men's Clothing...</td>\n",
       "    </tr>\n",
       "    <tr>\n",
       "      <th>78</th>\n",
       "      <td>FrMRHhzT-qUzv1-Nh1IOjQ</td>\n",
       "      <td>Sin City Party Buses</td>\n",
       "      <td>89118</td>\n",
       "      <td>4.0</td>\n",
       "      <td>18</td>\n",
       "      <td>Hotels &amp; Travel, Party Bus Rentals, Limos, Eve...</td>\n",
       "    </tr>\n",
       "    <tr>\n",
       "      <th>86</th>\n",
       "      <td>OWkS1FXNJbozn-qPg3LWxg</td>\n",
       "      <td>Mama Napoli Pizza</td>\n",
       "      <td>89109</td>\n",
       "      <td>4.5</td>\n",
       "      <td>11</td>\n",
       "      <td>Food, Food Trucks, Restaurants, Pizza</td>\n",
       "    </tr>\n",
       "    <tr>\n",
       "      <th>101</th>\n",
       "      <td>MTx-Zdl_KcU_z9G832XAjg</td>\n",
       "      <td>Taco Bell</td>\n",
       "      <td>89131</td>\n",
       "      <td>2.5</td>\n",
       "      <td>37</td>\n",
       "      <td>Fast Food, Restaurants</td>\n",
       "    </tr>\n",
       "  </tbody>\n",
       "</table>\n",
       "</div>"
      ],
      "text/plain": [
       "                business_id                      name postal_code  stars  \\\n",
       "6    oiAlXZPIFm2nBCt0DHLu_Q      Green World Cleaners       89118    3.5   \n",
       "66   bierVTEi44nJtFVQ01N-yQ  Lacoste Outlet Las Vegas       89106    3.5   \n",
       "78   FrMRHhzT-qUzv1-Nh1IOjQ      Sin City Party Buses       89118    4.0   \n",
       "86   OWkS1FXNJbozn-qPg3LWxg         Mama Napoli Pizza       89109    4.5   \n",
       "101  MTx-Zdl_KcU_z9G832XAjg                 Taco Bell       89131    2.5   \n",
       "\n",
       "     review_count                                         categories  \n",
       "6              81  Dry Cleaning & Laundry, Local Services, Laundr...  \n",
       "66             11  Accessories, Shopping, Fashion, Men's Clothing...  \n",
       "78             18  Hotels & Travel, Party Bus Rentals, Limos, Eve...  \n",
       "86             11              Food, Food Trucks, Restaurants, Pizza  \n",
       "101            37                             Fast Food, Restaurants  "
      ]
     },
     "execution_count": 57,
     "metadata": {},
     "output_type": "execute_result"
    }
   ],
   "source": [
    "# Check the dataset\n",
    "business.head(5)"
   ]
  },
  {
   "cell_type": "code",
   "execution_count": 58,
   "metadata": {},
   "outputs": [],
   "source": [
    "# Importing review json file in chunks, because of the super large size\n",
    "review_json_path = 'yelp_dataset/yelp_academic_dataset_review.json'\n",
    "size = 1000000\n",
    "review = pd.read_json(review_json_path, lines=True,\n",
    "                      dtype={'review_id':str,'user_id':str,\n",
    "                             'business_id':str,'stars':int,'text':str,'useful':int},\n",
    "                      chunksize=size)"
   ]
  },
  {
   "cell_type": "code",
   "execution_count": 59,
   "metadata": {},
   "outputs": [
    {
     "data": {
      "text/plain": [
       "<pandas.io.json._json.JsonReader at 0x1a1f600210>"
      ]
     },
     "execution_count": 59,
     "metadata": {},
     "output_type": "execute_result"
    }
   ],
   "source": [
    "review"
   ]
  },
  {
   "cell_type": "code",
   "execution_count": 61,
   "metadata": {},
   "outputs": [
    {
     "name": "stdout",
     "output_type": "stream",
     "text": [
      "252109 out of 1,000,000 related reviews\n",
      "263049 out of 1,000,000 related reviews\n",
      "247140 out of 1,000,000 related reviews\n",
      "257721 out of 1,000,000 related reviews\n",
      "260832 out of 1,000,000 related reviews\n",
      "242292 out of 1,000,000 related reviews\n",
      "253039 out of 1,000,000 related reviews\n",
      "5745 out of 1,000,000 related reviews\n"
     ]
    }
   ],
   "source": [
    "# With help from: \n",
    "#https://towardsdatascience.com/converting-yelp-dataset-to-csv-using-pandas-2a4c8f03bd88\n",
    "\n",
    "chunk_list = []\n",
    "for chunk_review in review:\n",
    "    # Renaming column name to avoid conflict with business overall star rating\n",
    "    chunk_review = chunk_review.rename(columns={'stars': 'review_stars'})\n",
    "    # Inner merge with edited business file so only reviews related to the business remain\n",
    "    chunk_merged = pd.merge(business, chunk_review, on='business_id', how='inner')\n",
    "    # Show feedback on progress\n",
    "    print(f\"{chunk_merged.shape[0]} out of {size:,} related reviews\")\n",
    "    chunk_list.append(chunk_merged)\n",
    "# After trimming down the review file, concatenate all relevant data back to one dataframe\n",
    "df = pd.concat(chunk_list, ignore_index=True, join='outer', axis=0)"
   ]
  },
  {
   "cell_type": "code",
   "execution_count": 65,
   "metadata": {},
   "outputs": [
    {
     "data": {
      "text/html": [
       "<div>\n",
       "<style scoped>\n",
       "    .dataframe tbody tr th:only-of-type {\n",
       "        vertical-align: middle;\n",
       "    }\n",
       "\n",
       "    .dataframe tbody tr th {\n",
       "        vertical-align: top;\n",
       "    }\n",
       "\n",
       "    .dataframe thead th {\n",
       "        text-align: right;\n",
       "    }\n",
       "</style>\n",
       "<table border=\"1\" class=\"dataframe\">\n",
       "  <thead>\n",
       "    <tr style=\"text-align: right;\">\n",
       "      <th></th>\n",
       "      <th>business_id</th>\n",
       "      <th>name</th>\n",
       "      <th>postal_code</th>\n",
       "      <th>stars</th>\n",
       "      <th>review_count</th>\n",
       "      <th>categories</th>\n",
       "      <th>review_id</th>\n",
       "      <th>user_id</th>\n",
       "      <th>review_stars</th>\n",
       "      <th>useful</th>\n",
       "      <th>funny</th>\n",
       "      <th>cool</th>\n",
       "      <th>text</th>\n",
       "      <th>date</th>\n",
       "    </tr>\n",
       "  </thead>\n",
       "  <tbody>\n",
       "    <tr>\n",
       "      <th>0</th>\n",
       "      <td>N1cVo_4pw2iMyi-P5Ih48A</td>\n",
       "      <td>Veer Towers</td>\n",
       "      <td>89158</td>\n",
       "      <td>4.0</td>\n",
       "      <td>26</td>\n",
       "      <td>Home Services, Real Estate Services, Apartment...</td>\n",
       "      <td>fanKQwFfG-9TZCpc4IZyxg</td>\n",
       "      <td>uNxXIIFzjHm5r62UTyVjrQ</td>\n",
       "      <td>4</td>\n",
       "      <td>4</td>\n",
       "      <td>1</td>\n",
       "      <td>0</td>\n",
       "      <td>I didnt even know this place existed until I g...</td>\n",
       "      <td>2013-04-21 20:45:51</td>\n",
       "    </tr>\n",
       "    <tr>\n",
       "      <th>1</th>\n",
       "      <td>N1cVo_4pw2iMyi-P5Ih48A</td>\n",
       "      <td>Veer Towers</td>\n",
       "      <td>89158</td>\n",
       "      <td>4.0</td>\n",
       "      <td>26</td>\n",
       "      <td>Home Services, Real Estate Services, Apartment...</td>\n",
       "      <td>Xy-vo1ZqV7-FnEO71IFUiQ</td>\n",
       "      <td>pC-VljE3MKlFG1iPavUr1Q</td>\n",
       "      <td>5</td>\n",
       "      <td>4</td>\n",
       "      <td>1</td>\n",
       "      <td>1</td>\n",
       "      <td>Lived here for about 2 years now. Amazing view...</td>\n",
       "      <td>2016-10-09 20:48:15</td>\n",
       "    </tr>\n",
       "    <tr>\n",
       "      <th>2</th>\n",
       "      <td>N1cVo_4pw2iMyi-P5Ih48A</td>\n",
       "      <td>Veer Towers</td>\n",
       "      <td>89158</td>\n",
       "      <td>4.0</td>\n",
       "      <td>26</td>\n",
       "      <td>Home Services, Real Estate Services, Apartment...</td>\n",
       "      <td>4S8TIIrKxETQy6LKZsFjSg</td>\n",
       "      <td>_-jHqPqzIgbFPYGTwTTQ8Q</td>\n",
       "      <td>5</td>\n",
       "      <td>0</td>\n",
       "      <td>1</td>\n",
       "      <td>0</td>\n",
       "      <td>MGM Mirage has begun closing sales at Veer Tow...</td>\n",
       "      <td>2010-09-26 03:45:27</td>\n",
       "    </tr>\n",
       "    <tr>\n",
       "      <th>3</th>\n",
       "      <td>N1cVo_4pw2iMyi-P5Ih48A</td>\n",
       "      <td>Veer Towers</td>\n",
       "      <td>89158</td>\n",
       "      <td>4.0</td>\n",
       "      <td>26</td>\n",
       "      <td>Home Services, Real Estate Services, Apartment...</td>\n",
       "      <td>4cwcSBJmLn54e2F11RWlHw</td>\n",
       "      <td>LapuXd4UMgjP2yzJrAmJzw</td>\n",
       "      <td>4</td>\n",
       "      <td>6</td>\n",
       "      <td>1</td>\n",
       "      <td>3</td>\n",
       "      <td>Simple steel concrete and glass design through...</td>\n",
       "      <td>2011-01-05 19:30:59</td>\n",
       "    </tr>\n",
       "    <tr>\n",
       "      <th>4</th>\n",
       "      <td>N1cVo_4pw2iMyi-P5Ih48A</td>\n",
       "      <td>Veer Towers</td>\n",
       "      <td>89158</td>\n",
       "      <td>4.0</td>\n",
       "      <td>26</td>\n",
       "      <td>Home Services, Real Estate Services, Apartment...</td>\n",
       "      <td>Zes9yxgmB-4NLtbqg4D7EA</td>\n",
       "      <td>KzEHXFjbayCxD12DR8ficA</td>\n",
       "      <td>3</td>\n",
       "      <td>4</td>\n",
       "      <td>2</td>\n",
       "      <td>0</td>\n",
       "      <td>I have visited here several times and the staf...</td>\n",
       "      <td>2013-03-10 03:03:20</td>\n",
       "    </tr>\n",
       "  </tbody>\n",
       "</table>\n",
       "</div>"
      ],
      "text/plain": [
       "              business_id         name postal_code  stars  review_count  \\\n",
       "0  N1cVo_4pw2iMyi-P5Ih48A  Veer Towers       89158    4.0            26   \n",
       "1  N1cVo_4pw2iMyi-P5Ih48A  Veer Towers       89158    4.0            26   \n",
       "2  N1cVo_4pw2iMyi-P5Ih48A  Veer Towers       89158    4.0            26   \n",
       "3  N1cVo_4pw2iMyi-P5Ih48A  Veer Towers       89158    4.0            26   \n",
       "4  N1cVo_4pw2iMyi-P5Ih48A  Veer Towers       89158    4.0            26   \n",
       "\n",
       "                                          categories               review_id  \\\n",
       "0  Home Services, Real Estate Services, Apartment...  fanKQwFfG-9TZCpc4IZyxg   \n",
       "1  Home Services, Real Estate Services, Apartment...  Xy-vo1ZqV7-FnEO71IFUiQ   \n",
       "2  Home Services, Real Estate Services, Apartment...  4S8TIIrKxETQy6LKZsFjSg   \n",
       "3  Home Services, Real Estate Services, Apartment...  4cwcSBJmLn54e2F11RWlHw   \n",
       "4  Home Services, Real Estate Services, Apartment...  Zes9yxgmB-4NLtbqg4D7EA   \n",
       "\n",
       "                  user_id  review_stars  useful  funny  cool  \\\n",
       "0  uNxXIIFzjHm5r62UTyVjrQ             4       4      1     0   \n",
       "1  pC-VljE3MKlFG1iPavUr1Q             5       4      1     1   \n",
       "2  _-jHqPqzIgbFPYGTwTTQ8Q             5       0      1     0   \n",
       "3  LapuXd4UMgjP2yzJrAmJzw             4       6      1     3   \n",
       "4  KzEHXFjbayCxD12DR8ficA             3       4      2     0   \n",
       "\n",
       "                                                text                date  \n",
       "0  I didnt even know this place existed until I g... 2013-04-21 20:45:51  \n",
       "1  Lived here for about 2 years now. Amazing view... 2016-10-09 20:48:15  \n",
       "2  MGM Mirage has begun closing sales at Veer Tow... 2010-09-26 03:45:27  \n",
       "3  Simple steel concrete and glass design through... 2011-01-05 19:30:59  \n",
       "4  I have visited here several times and the staf... 2013-03-10 03:03:20  "
      ]
     },
     "execution_count": 65,
     "metadata": {},
     "output_type": "execute_result"
    }
   ],
   "source": [
    "# df is our new dataset with data about restaurants and their corresponding reviews\n",
    "df.head(5)"
   ]
  },
  {
   "cell_type": "code",
   "execution_count": null,
   "metadata": {},
   "outputs": [],
   "source": [
    "# Dropping columns not required\n",
    "df.drop(['funny', 'cool','date'], axis=1, inplace = True)"
   ]
  },
  {
   "cell_type": "code",
   "execution_count": 69,
   "metadata": {},
   "outputs": [
    {
     "data": {
      "text/html": [
       "<div>\n",
       "<style scoped>\n",
       "    .dataframe tbody tr th:only-of-type {\n",
       "        vertical-align: middle;\n",
       "    }\n",
       "\n",
       "    .dataframe tbody tr th {\n",
       "        vertical-align: top;\n",
       "    }\n",
       "\n",
       "    .dataframe thead th {\n",
       "        text-align: right;\n",
       "    }\n",
       "</style>\n",
       "<table border=\"1\" class=\"dataframe\">\n",
       "  <thead>\n",
       "    <tr style=\"text-align: right;\">\n",
       "      <th></th>\n",
       "      <th>business_id</th>\n",
       "      <th>name</th>\n",
       "      <th>postal_code</th>\n",
       "      <th>stars</th>\n",
       "      <th>review_count</th>\n",
       "      <th>categories</th>\n",
       "      <th>review_id</th>\n",
       "      <th>user_id</th>\n",
       "      <th>review_stars</th>\n",
       "      <th>useful</th>\n",
       "      <th>text</th>\n",
       "    </tr>\n",
       "  </thead>\n",
       "  <tbody>\n",
       "    <tr>\n",
       "      <th>0</th>\n",
       "      <td>N1cVo_4pw2iMyi-P5Ih48A</td>\n",
       "      <td>Veer Towers</td>\n",
       "      <td>89158</td>\n",
       "      <td>4.0</td>\n",
       "      <td>26</td>\n",
       "      <td>Home Services, Real Estate Services, Apartment...</td>\n",
       "      <td>fanKQwFfG-9TZCpc4IZyxg</td>\n",
       "      <td>uNxXIIFzjHm5r62UTyVjrQ</td>\n",
       "      <td>4</td>\n",
       "      <td>4</td>\n",
       "      <td>I didnt even know this place existed until I g...</td>\n",
       "    </tr>\n",
       "    <tr>\n",
       "      <th>1</th>\n",
       "      <td>N1cVo_4pw2iMyi-P5Ih48A</td>\n",
       "      <td>Veer Towers</td>\n",
       "      <td>89158</td>\n",
       "      <td>4.0</td>\n",
       "      <td>26</td>\n",
       "      <td>Home Services, Real Estate Services, Apartment...</td>\n",
       "      <td>Xy-vo1ZqV7-FnEO71IFUiQ</td>\n",
       "      <td>pC-VljE3MKlFG1iPavUr1Q</td>\n",
       "      <td>5</td>\n",
       "      <td>4</td>\n",
       "      <td>Lived here for about 2 years now. Amazing view...</td>\n",
       "    </tr>\n",
       "    <tr>\n",
       "      <th>2</th>\n",
       "      <td>N1cVo_4pw2iMyi-P5Ih48A</td>\n",
       "      <td>Veer Towers</td>\n",
       "      <td>89158</td>\n",
       "      <td>4.0</td>\n",
       "      <td>26</td>\n",
       "      <td>Home Services, Real Estate Services, Apartment...</td>\n",
       "      <td>4S8TIIrKxETQy6LKZsFjSg</td>\n",
       "      <td>_-jHqPqzIgbFPYGTwTTQ8Q</td>\n",
       "      <td>5</td>\n",
       "      <td>0</td>\n",
       "      <td>MGM Mirage has begun closing sales at Veer Tow...</td>\n",
       "    </tr>\n",
       "    <tr>\n",
       "      <th>3</th>\n",
       "      <td>N1cVo_4pw2iMyi-P5Ih48A</td>\n",
       "      <td>Veer Towers</td>\n",
       "      <td>89158</td>\n",
       "      <td>4.0</td>\n",
       "      <td>26</td>\n",
       "      <td>Home Services, Real Estate Services, Apartment...</td>\n",
       "      <td>4cwcSBJmLn54e2F11RWlHw</td>\n",
       "      <td>LapuXd4UMgjP2yzJrAmJzw</td>\n",
       "      <td>4</td>\n",
       "      <td>6</td>\n",
       "      <td>Simple steel concrete and glass design through...</td>\n",
       "    </tr>\n",
       "    <tr>\n",
       "      <th>4</th>\n",
       "      <td>N1cVo_4pw2iMyi-P5Ih48A</td>\n",
       "      <td>Veer Towers</td>\n",
       "      <td>89158</td>\n",
       "      <td>4.0</td>\n",
       "      <td>26</td>\n",
       "      <td>Home Services, Real Estate Services, Apartment...</td>\n",
       "      <td>Zes9yxgmB-4NLtbqg4D7EA</td>\n",
       "      <td>KzEHXFjbayCxD12DR8ficA</td>\n",
       "      <td>3</td>\n",
       "      <td>4</td>\n",
       "      <td>I have visited here several times and the staf...</td>\n",
       "    </tr>\n",
       "  </tbody>\n",
       "</table>\n",
       "</div>"
      ],
      "text/plain": [
       "              business_id         name postal_code  stars  review_count  \\\n",
       "0  N1cVo_4pw2iMyi-P5Ih48A  Veer Towers       89158    4.0            26   \n",
       "1  N1cVo_4pw2iMyi-P5Ih48A  Veer Towers       89158    4.0            26   \n",
       "2  N1cVo_4pw2iMyi-P5Ih48A  Veer Towers       89158    4.0            26   \n",
       "3  N1cVo_4pw2iMyi-P5Ih48A  Veer Towers       89158    4.0            26   \n",
       "4  N1cVo_4pw2iMyi-P5Ih48A  Veer Towers       89158    4.0            26   \n",
       "\n",
       "                                          categories               review_id  \\\n",
       "0  Home Services, Real Estate Services, Apartment...  fanKQwFfG-9TZCpc4IZyxg   \n",
       "1  Home Services, Real Estate Services, Apartment...  Xy-vo1ZqV7-FnEO71IFUiQ   \n",
       "2  Home Services, Real Estate Services, Apartment...  4S8TIIrKxETQy6LKZsFjSg   \n",
       "3  Home Services, Real Estate Services, Apartment...  4cwcSBJmLn54e2F11RWlHw   \n",
       "4  Home Services, Real Estate Services, Apartment...  Zes9yxgmB-4NLtbqg4D7EA   \n",
       "\n",
       "                  user_id  review_stars  useful  \\\n",
       "0  uNxXIIFzjHm5r62UTyVjrQ             4       4   \n",
       "1  pC-VljE3MKlFG1iPavUr1Q             5       4   \n",
       "2  _-jHqPqzIgbFPYGTwTTQ8Q             5       0   \n",
       "3  LapuXd4UMgjP2yzJrAmJzw             4       6   \n",
       "4  KzEHXFjbayCxD12DR8ficA             3       4   \n",
       "\n",
       "                                                text  \n",
       "0  I didnt even know this place existed until I g...  \n",
       "1  Lived here for about 2 years now. Amazing view...  \n",
       "2  MGM Mirage has begun closing sales at Veer Tow...  \n",
       "3  Simple steel concrete and glass design through...  \n",
       "4  I have visited here several times and the staf...  "
      ]
     },
     "execution_count": 69,
     "metadata": {},
     "output_type": "execute_result"
    }
   ],
   "source": [
    "df.head(5)"
   ]
  },
  {
   "cell_type": "code",
   "execution_count": 73,
   "metadata": {},
   "outputs": [
    {
     "data": {
      "text/plain": [
       "(1781927, 11)"
      ]
     },
     "execution_count": 73,
     "metadata": {},
     "output_type": "execute_result"
    }
   ],
   "source": [
    "# Checking number of rows our dataframe has\n",
    "df.shape"
   ]
  },
  {
   "cell_type": "code",
   "execution_count": 76,
   "metadata": {},
   "outputs": [],
   "source": [
    "# We can drop reviews which did not recieve any useful votes, to restrict our data further\n",
    "df = df.loc[df['useful'] > 0]"
   ]
  },
  {
   "cell_type": "code",
   "execution_count": 126,
   "metadata": {},
   "outputs": [],
   "source": [
    "# Create columns to store lenght of reviews written\n",
    "df['reviewlen'] = df['text'].str.len()"
   ]
  },
  {
   "cell_type": "code",
   "execution_count": 150,
   "metadata": {},
   "outputs": [
    {
     "data": {
      "image/png": "[encoded data removed]",
      "text/plain": [
       "<Figure size 432x288 with 1 Axes>"
      ]
     },
     "metadata": {
      "needs_background": "light"
     },
     "output_type": "display_data"
    }
   ],
   "source": [
    "# Visualizing distribution of lenght of reviews\n",
    "sns.kdeplot(df['reviewlen'])\n",
    "plt.title('frequence of length of reviews')\n",
    "plt.xlabel(\"lenght of review\")\n",
    "plt.ylabel(\"proportion of reviews \");"
   ]
  },
  {
   "cell_type": "code",
   "execution_count": 151,
   "metadata": {},
   "outputs": [],
   "source": [
    "# We can restrict our analysis to reviews with length less than 1000\n",
    "df = df.loc[df['reviewlen'] < 1000]"
   ]
  },
  {
   "cell_type": "code",
   "execution_count": 152,
   "metadata": {},
   "outputs": [
    {
     "data": {
      "text/plain": [
       "(577300, 12)"
      ]
     },
     "execution_count": 152,
     "metadata": {},
     "output_type": "execute_result"
    }
   ],
   "source": [
    "df.shape"
   ]
  },
  {
   "cell_type": "code",
   "execution_count": 153,
   "metadata": {},
   "outputs": [],
   "source": [
    "# Save data to CSV file for future use\n",
    "csv_name = \"review_and_business_data_cleaned.csv\"\n",
    "df.to_csv(csv_name, index=False)"
   ]
  }
 ],
 "metadata": {
  "kernelspec": {
   "display_name": "Python 3",
   "language": "python",
   "name": "python3"
  },
  "language_info": {
   "codemirror_mode": {
    "name": "ipython",
    "version": 3
   },
   "file_extension": ".py",
   "mimetype": "text/x-python",
   "name": "python",
   "nbconvert_exporter": "python",
   "pygments_lexer": "ipython3",
   "version": "3.7.6"
  }
 },
 "nbformat": 4,
 "nbformat_minor": 4
}
